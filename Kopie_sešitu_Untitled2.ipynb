{
  "nbformat": 4,
  "nbformat_minor": 0,
  "metadata": {
    "colab": {
      "provenance": [],
      "collapsed_sections": [
        "Agq_eokHkyKH",
        "7oS8skSnhWSE"
      ],
      "toc_visible": true
    },
    "kernelspec": {
      "name": "python3",
      "display_name": "Python 3"
    },
    "language_info": {
      "name": "python"
    }
  },
  "cells": [
    {
      "cell_type": "markdown",
      "source": [
        "# Cykly"
      ],
      "metadata": {
        "id": "5ex8bQqpGiaW"
      }
    },
    {
      "cell_type": "markdown",
      "source": [
        "## IF-Else"
      ],
      "metadata": {
        "id": "Agq_eokHkyKH"
      }
    },
    {
      "cell_type": "markdown",
      "source": [
        "### Př. 1 Zletilost"
      ],
      "metadata": {
        "id": "kZsdccH7GUqV"
      }
    },
    {
      "cell_type": "code",
      "execution_count": null,
      "metadata": {
        "id": "gPLJkPo-lxxv",
        "colab": {
          "base_uri": "https://localhost:8080/"
        },
        "outputId": "56f837e7-d9c2-44be-f459-a7fdff37860d"
      },
      "outputs": [
        {
          "output_type": "stream",
          "name": "stdout",
          "text": [
            "Jste dospělý/á.\n"
          ]
        }
      ],
      "source": [
        "vek = 21\n",
        "\n",
        "if vek >= 18: #podmínka\n",
        "    print(\"Jste dospělý/á.\")\n",
        "else:\n",
        "    print(\"Jste nezletilý/á.\")"
      ]
    },
    {
      "cell_type": "markdown",
      "source": [
        "### Př. 2 Sudost/lichost"
      ],
      "metadata": {
        "id": "3wAqD22cHI9x"
      }
    },
    {
      "cell_type": "code",
      "source": [
        "číslo = int(input(\"Zadejte číslo: \"))\n",
        "\n",
        "if číslo % 2 == 0: # pokud porovnávám, tak dávám dvě rovnítka\n",
        "    print(f\"Číslo {číslo} je sudé.\")\n",
        "else:\n",
        "    print(f\"Číslo {číslo} je liché.\")"
      ],
      "metadata": {
        "id": "L-1ZBx35HOm0"
      },
      "execution_count": null,
      "outputs": []
    },
    {
      "cell_type": "markdown",
      "source": [
        "### Př. 3 Známka ve škole\n",
        "multiple else"
      ],
      "metadata": {
        "id": "wBcPZIEFHeAZ"
      }
    },
    {
      "cell_type": "code",
      "source": [
        "známka = int(input(\"Zadejte známku (1-5): \"))\n",
        "\n",
        "if známka == 1:\n",
        "    print(\"Výborně!\")\n",
        "elif známka == 2:\n",
        "    print(\"Chvalitebně.\")\n",
        "elif známka == 3:\n",
        "    print(\"Dobře.\")\n",
        "elif známka == 4:\n",
        "    print(\"Dostatečně.\")\n",
        "elif známka == 5:\n",
        "    print(\"Nedostatečně.\")\n",
        "else:\n",
        "    print(\"Neplatná známka.\")\n"
      ],
      "metadata": {
        "id": "YwtvE65rHdGf"
      },
      "execution_count": null,
      "outputs": []
    },
    {
      "cell_type": "markdown",
      "source": [
        "### Př. 4 jmeno & heslo\n",
        "využití logických funkcí 'and' a 'or'"
      ],
      "metadata": {
        "id": "KO9Hr1eeH-yR"
      }
    },
    {
      "cell_type": "code",
      "source": [
        "uživatelské_jméno = input(\"Zadejte uživatelské jméno: \")\n",
        "heslo = input(\"Zadejte heslo: \")\n",
        "\n",
        "if (uživatelské_jméno == \"admin\" and heslo == \"tajne123\") or (uživatelské_jméno == \"host\" and heslo == \"host123\"):\n",
        "    print(\"Přístup povolen.\")\n",
        "else:\n",
        "    print(\"Přístup odepřen.\")\n"
      ],
      "metadata": {
        "id": "my_uSd4FI82B"
      },
      "execution_count": null,
      "outputs": []
    },
    {
      "cell_type": "markdown",
      "source": [
        "### Př. 5 DÚ vstup do kina na horor\n",
        "vstupy: věk, doprovod (ano/ne)\n",
        "\n",
        "---\n",
        "\n",
        "\n",
        "výstup - pokud je návštěvníkovi 18+,\n",
        "nebo pokud je návštěvníkovi 15+ a má doprovod, pak je vstup povolen, jinak ne."
      ],
      "metadata": {
        "id": "63JaZHG3KUp5"
      }
    },
    {
      "cell_type": "code",
      "source": [],
      "metadata": {
        "id": "dbXJj-S0Kbh7"
      },
      "execution_count": null,
      "outputs": []
    },
    {
      "cell_type": "markdown",
      "source": [
        "## List\n"
      ],
      "metadata": {
        "id": "7oS8skSnhWSE"
      }
    },
    {
      "cell_type": "markdown",
      "source": [
        "### Př. 6 výpis ovoce"
      ],
      "metadata": {
        "id": "1eGcKPPencF7"
      }
    },
    {
      "cell_type": "code",
      "source": [
        "ovoce1 = \"jablko\"\n",
        "ovoce2= \"banán\"\n",
        "ovoce3= \"pomeranč\"\n",
        "ovoce4= \"hruška\"\n",
        "\n",
        "print(f\"Mám rád {ovoce1}.\")\n",
        "print(f\"Mám rád {ovoce2}.\")\n",
        "print(f\"Mám rád {ovoce3}.\")\n",
        "print(f\"Mám rád {ovoce4}.\")"
      ],
      "metadata": {
        "id": "5u8yvIvUhgZ6"
      },
      "execution_count": null,
      "outputs": []
    },
    {
      "cell_type": "markdown",
      "source": [
        "### Př. 7 výpis ovoce pomocí listu\n",
        "pomocí listu list ve formě list=[a,b,c,d...]\n",
        "index začíná od 0, tj list[0]=a, list[1]=b..."
      ],
      "metadata": {
        "id": "QRMkxh6KnrFZ"
      }
    },
    {
      "cell_type": "code",
      "source": [
        "ovoce = [\"jablko\", \"banán\", \"pomeranč\", \"hruška\"]\n",
        "\n",
        "print(f\"Mám rád {ovoce[0]}.\") # indexace"
      ],
      "metadata": {
        "id": "UKo-OeDNh6Ir"
      },
      "execution_count": null,
      "outputs": []
    },
    {
      "cell_type": "markdown",
      "source": [
        "## For cyklus\n",
        "slouží především k procházení polem"
      ],
      "metadata": {
        "id": "AsrUq6BKjG0c"
      }
    },
    {
      "cell_type": "markdown",
      "source": [
        "### Př. 8 výpis ovoce pomocí for cyklu"
      ],
      "metadata": {
        "id": "xSbxF7-MnVpH"
      }
    },
    {
      "cell_type": "code",
      "source": [
        "ovoce = [\"jablko\", \"banán\", \"pomeranč\", \"hruška\"]\n",
        "\n",
        "for druh in ovoce: #druh je pro nás jednotlivý index v listu\n",
        "    print(f\"Mám rád {druh}.\")"
      ],
      "metadata": {
        "id": "-ToiklEjhZzo"
      },
      "execution_count": null,
      "outputs": []
    },
    {
      "cell_type": "markdown",
      "source": [
        "### Př. 9 výpis ovoce\n",
        "hledám specifické ovoce v seznamu"
      ],
      "metadata": {
        "id": "UpqPshehoK_g"
      }
    },
    {
      "cell_type": "code",
      "source": [
        "hledane = \"banán\"\n",
        "ovoce = [\"jablko\", \"banán\", \"pomeranč\", \"hruška\"]\n",
        "\n",
        "for druh in ovoce:\n",
        "    if druh == hledane:\n",
        "        print(f\"Našel jsem: {hledane}\")\n",
        "        break"
      ],
      "metadata": {
        "id": "C-YoEBsynUkT"
      },
      "execution_count": null,
      "outputs": []
    },
    {
      "cell_type": "markdown",
      "source": [
        "### Př. 10 součet čísel"
      ],
      "metadata": {
        "id": "Kd-Qmq_oqg3Y"
      }
    },
    {
      "cell_type": "code",
      "source": [
        "cisla = [1, 2, 3, 4, 5]\n",
        "soucet = 0\n",
        "\n",
        "for cislo in cisla:\n",
        "    soucet += číslo # ekvivalentně soucet=soucet+cislo\n",
        "\n",
        "print(f\"Součet čísel je: {soucet}\")"
      ],
      "metadata": {
        "id": "KroJvxhdqflR"
      },
      "execution_count": null,
      "outputs": []
    },
    {
      "cell_type": "markdown",
      "source": [
        "### Př. 10 procházení textem"
      ],
      "metadata": {
        "id": "k3TcgxFQ0_Sq"
      }
    },
    {
      "cell_type": "code",
      "source": [
        "text = \"Python\"\n",
        "\n",
        "for znak in text:\n",
        "    print(f\"Písmeno: {znak}\")"
      ],
      "metadata": {
        "id": "CuOHGMK10-If"
      },
      "execution_count": null,
      "outputs": []
    },
    {
      "cell_type": "markdown",
      "source": [
        "### Př. 11 Dělitelná třemi\n",
        "kombinace podmínek if a for"
      ],
      "metadata": {
        "id": "ay-QE3ra1MHS"
      }
    },
    {
      "cell_type": "code",
      "source": [
        "čísla = [3, 7, 9, 12, 15, 20]\n",
        "\n",
        "for číslo in čísla:\n",
        "    if číslo % 3 == 0:\n",
        "        print(f\"Číslo {číslo} je dělitelné třemi.\")"
      ],
      "metadata": {
        "id": "4Qg3ZtK_1Hrh"
      },
      "execution_count": null,
      "outputs": []
    },
    {
      "cell_type": "markdown",
      "source": [
        "### Př. 12 DÚ čísla dělitelná třemi, nebo pěti\n",
        "vstup: range(1, 21)\n",
        "\n",
        "---\n",
        "výstup: vytisknutí čísel např.\n",
        "\n",
        "\"číslo 3 je dělitelné třemi\"\n",
        "\"číslo 5 je dělitelné pěti\"\n",
        "\"číslo 15 je dělitelné třemi nebo pěti\"\n"
      ],
      "metadata": {
        "id": "8muPr0nn3SDD"
      }
    },
    {
      "cell_type": "markdown",
      "source": [
        "### Př. 13 DÚ počet samohlásek\n",
        "vstup: text daný uživatelem\n",
        "---\n",
        "výstup: počet samohlásek\n",
        "\n"
      ],
      "metadata": {
        "id": "e9IfPGuA26Iq"
      }
    },
    {
      "cell_type": "code",
      "source": [],
      "metadata": {
        "id": "w5h_EHcl58XB"
      },
      "execution_count": null,
      "outputs": []
    },
    {
      "cell_type": "markdown",
      "source": [
        "## While cyklus\n",
        "nekonečný cyklus, dokud není splněna podmínka"
      ],
      "metadata": {
        "id": "k9PDCWKM58xS"
      }
    },
    {
      "cell_type": "markdown",
      "source": [
        "### Př. 14 while cyklus\n",
        "\n",
        "dokud není splněna podmínka, cyklus běží"
      ],
      "metadata": {
        "id": "XBScj5Tt6lro"
      }
    },
    {
      "cell_type": "code",
      "source": [
        "i = 0\n",
        "while i <= 5:\n",
        "  print(i)\n",
        "  i += 1"
      ],
      "metadata": {
        "id": "hot_zG_g7S8x"
      },
      "execution_count": null,
      "outputs": []
    },
    {
      "cell_type": "markdown",
      "source": [
        "### Př. 15 while cyklus\n",
        "\n",
        "podmínka není splněna, cyklus běží do nekonečna"
      ],
      "metadata": {
        "id": "OM9GkXlH3h-M"
      }
    },
    {
      "cell_type": "code",
      "source": [
        "i = 0\n",
        "z = 0\n",
        "while z <= 5:\n",
        "  print(i)\n",
        "  i += 1"
      ],
      "metadata": {
        "id": "HW0mrBRo3op0"
      },
      "execution_count": null,
      "outputs": []
    },
    {
      "cell_type": "markdown",
      "source": [
        "### Př. 16 čísla dělitelná třemi\n",
        "podmínka není splněna, cyklus běží do nekonečna"
      ],
      "metadata": {
        "id": "_GvS7mZZ5Mmu"
      }
    },
    {
      "cell_type": "code",
      "source": [
        "start = 1\n",
        "\n",
        "while start <= 50:\n",
        "    if start % 3 == 0:\n",
        "        print(f\"{start} je dělitelné třemi.\")\n",
        "    číslo += 1\n"
      ],
      "metadata": {
        "id": "cL_gppQk45yl"
      },
      "execution_count": null,
      "outputs": []
    },
    {
      "cell_type": "markdown",
      "source": [
        "### Př. 17 DÚ součet čísel od 1 do 50 pomocí\n",
        "a) while cyklu\n",
        "\n",
        "b) for cyklu"
      ],
      "metadata": {
        "id": "Bv1F4XSn6N2B"
      }
    },
    {
      "cell_type": "code",
      "source": [
        "\n"
      ],
      "metadata": {
        "id": "gVtA7gV36b3w"
      },
      "execution_count": null,
      "outputs": []
    },
    {
      "cell_type": "markdown",
      "source": [
        "##List comprehensions"
      ],
      "metadata": {
        "id": "ihhCXU-fJ7Sy"
      }
    },
    {
      "cell_type": "markdown",
      "source": [
        "### Př. 18 List sudých čísel z range(1,11)"
      ],
      "metadata": {
        "id": "qm_gdo0AKvn5"
      }
    },
    {
      "cell_type": "code",
      "source": [
        "seznam=[]\n",
        "for x in range(1, 11): #pomocí for cyklu\n",
        "  if x % 2 == 0:\n",
        "    seznam.append(x)\n",
        "print(seznam)"
      ],
      "metadata": {
        "id": "FURzXvQSLAUJ"
      },
      "execution_count": null,
      "outputs": []
    },
    {
      "cell_type": "code",
      "source": [
        "sudá_čísla = [x for x in range(1, 11) if x % 2 == 0] #pomocí komprehenze\n",
        "print(sudá_čísla)"
      ],
      "metadata": {
        "id": "F-5L8b9cK9La"
      },
      "execution_count": null,
      "outputs": []
    },
    {
      "cell_type": "markdown",
      "source": [
        "### Př. 19 Převedení jmen na velká písmena"
      ],
      "metadata": {
        "id": "UV3eOepjL9sl"
      }
    },
    {
      "cell_type": "code",
      "source": [
        "jména = [\"Jan\", \"Petr\", \"Eva\", \"Anna\"]\n",
        "jména_velka = [jméno.upper() for jméno in jména]\n",
        "print(jména_velka)"
      ],
      "metadata": {
        "id": "E7bvHJeyL4v_"
      },
      "execution_count": null,
      "outputs": []
    },
    {
      "cell_type": "markdown",
      "source": [
        "### Př. 20 Vnořená komprehenze"
      ],
      "metadata": {
        "id": "TmAI0wIXMr4d"
      }
    },
    {
      "cell_type": "code",
      "source": [
        "násobilka = [[x * y for y in range(1, 6)] for x in range(1, 6)]\n",
        "print(násobilka)"
      ],
      "metadata": {
        "id": "P9bM0vriMo70"
      },
      "execution_count": null,
      "outputs": []
    },
    {
      "cell_type": "markdown",
      "source": [
        "### Př. 21 kombinace seznamů"
      ],
      "metadata": {
        "id": "7B7a3qJpNAy-"
      }
    },
    {
      "cell_type": "code",
      "source": [
        "a = [1, 2, 3]\n",
        "b = [4, 5, 6]\n",
        "kombinace = [(x, y) for x in a for y in b]\n",
        "print(kombinace)  # Výstup: [(1, 4), (1, 5), ..., (3, 6)]"
      ],
      "metadata": {
        "id": "CcAyswY2M_nR"
      },
      "execution_count": null,
      "outputs": []
    },
    {
      "cell_type": "markdown",
      "source": [
        "### Př. 22 DÚ\n",
        "\n",
        "Vypiš seznam zvířat s více než třemi znaky\n",
        "\n",
        "slova = [\"pes\", \"kočka\", \"lev\", \"tygr\", \"havran\", \"čáp\"]\n",
        "\n",
        "*nápověda - použij funkci len()"
      ],
      "metadata": {
        "id": "Ct4LuMwbNNQw"
      }
    },
    {
      "cell_type": "code",
      "source": [],
      "metadata": {
        "id": "sJm6tXzzNn5O"
      },
      "execution_count": null,
      "outputs": []
    },
    {
      "cell_type": "markdown",
      "source": [
        "##Funkce args, kwargs\n",
        "\n",
        "*args - slouží pro načítání libovolného množství argumentů\n",
        "\n",
        "**kwargs - slouží pro načítání libovolného množství typu dictionary\n",
        "\n",
        "V kódu není třeba držet názvy\n",
        "lze nazvat třeba *pokus,\n",
        "\n",
        "**pokus2\n",
        "\n"
      ],
      "metadata": {
        "id": "fl-LJgVA9SMx"
      }
    },
    {
      "cell_type": "markdown",
      "source": [
        "### Př. 23 součet čísel"
      ],
      "metadata": {
        "id": "oENyRFFH9Zmx"
      }
    },
    {
      "cell_type": "code",
      "source": [
        "def soucet(*args):\n",
        "    return sum(args)\n",
        "\n",
        "print(soucet(1, 2, 3, 4,5,6,7,8,9,10,11))\n",
        "print(soucet(10, -20, 30,-40))"
      ],
      "metadata": {
        "id": "4p_2owyn9FVm"
      },
      "execution_count": null,
      "outputs": []
    },
    {
      "cell_type": "markdown",
      "source": [
        "### Př. 24 operace kalkulačky"
      ],
      "metadata": {
        "id": "4TqaOo_VEuaN"
      }
    },
    {
      "cell_type": "code",
      "source": [
        "def scitani(*hodnoty):\n",
        "    return sum(hodnoty)\n",
        "\n",
        "def odcitani(*args):\n",
        "    if not args:\n",
        "        return \"Nebyla zadána žádná čísla.\"\n",
        "    vysledek = args[0]\n",
        "    for cislo in args[1:]:\n",
        "        vysledek -= cislo\n",
        "    return vysledek\n",
        "\n",
        "def kalkulacka(operace, *args):\n",
        "    return operace(*args)\n",
        "\n",
        "print(kalkulacka(scitani, 10, 5))\n",
        "print(kalkulacka(odcitani, 10, 5))\n"
      ],
      "metadata": {
        "id": "EuGbeKdPAWpi"
      },
      "execution_count": null,
      "outputs": []
    },
    {
      "cell_type": "markdown",
      "source": [
        "### Př. 25 **kwargs - jméno a příjmení"
      ],
      "metadata": {
        "id": "JfMUGh2gH3tz"
      }
    },
    {
      "cell_type": "code",
      "source": [
        "def print_named_arguments(**kwargs):\n",
        "\n",
        "  print(kwargs, type(kwargs))\n",
        "\n",
        "  for key, value in kwargs.items():\n",
        "    print(key,\":\", value)\n",
        "\n",
        "print_named_arguments(Jmeno=\"Garegin\", Prijmeni=\"Minasjan\")"
      ],
      "metadata": {
        "id": "C2WYo4cVGLet"
      },
      "execution_count": null,
      "outputs": []
    },
    {
      "cell_type": "markdown",
      "source": [
        "### Př. 26 **kwargs - jméno a příjmení a koníčky"
      ],
      "metadata": {
        "id": "uerF_3DnILdk"
      }
    },
    {
      "cell_type": "code",
      "source": [
        "def vypis_jmeno_a_hobby(*args, **kwargs):\n",
        "    jmeno = kwargs.get(\"jmeno\", \"Neznámé\")\n",
        "    prijmeni = kwargs.get(\"prijmeni\", \"Neznámé\")\n",
        "    print(f\"Jméno: {jmeno}, Příjmení: {prijmeni}\")\n",
        "    if args:\n",
        "        print(\"Koníčky:\")\n",
        "        for hobby in args:\n",
        "            print(f\"- {hobby}\")\n",
        "\n",
        "vypis_jmeno_a_hobby(\"fotbal\", \"cestování\", jmeno=\"Anna\", prijmeni=\"Dvořáková\")\n"
      ],
      "metadata": {
        "id": "eKhPeyp-HDJx"
      },
      "execution_count": null,
      "outputs": []
    },
    {
      "cell_type": "markdown",
      "source": [
        "### Př. 27 DÚ\n",
        "\n",
        "vytvořte slovník s vaším jménem, příjmením, věkem a váhou, pokud něco z toho nebude zadáno, tak píšeme \"XXX\""
      ],
      "metadata": {
        "id": "SF67CBWGJEJT"
      }
    },
    {
      "cell_type": "code",
      "source": [],
      "metadata": {
        "id": "WDQRlncFJaCp"
      },
      "execution_count": null,
      "outputs": []
    },
    {
      "cell_type": "markdown",
      "source": [
        "## Dekorátor\n",
        "\n",
        "Dekorátor obaluje dříve definovanou funkci a umožňuje přidávat kód před a po jejím spuštění."
      ],
      "metadata": {
        "id": "qgnKYATOPfCa"
      }
    },
    {
      "cell_type": "markdown",
      "source": [
        "Syntaxe\n",
        "\n",
        "    @dekorator\n",
        "\n",
        "    def funkce():\n",
        "      #tělo funkce\n",
        "\n"
      ],
      "metadata": {
        "id": "NhlXp9HcPo-I"
      }
    },
    {
      "cell_type": "markdown",
      "source": [
        "### Př. 28 \"Ahoj Světe\" zjednodušeno"
      ],
      "metadata": {
        "id": "N5DBLENgQwFL"
      }
    },
    {
      "cell_type": "code",
      "source": [
        "def hello_world(*args, **kwargs):\n",
        "  return \"hello world\""
      ],
      "metadata": {
        "id": "nDvO9NKfSeQA"
      },
      "execution_count": null,
      "outputs": []
    },
    {
      "cell_type": "code",
      "source": [
        "def decorator(func):\n",
        "  def wrapper(*args, **kwargs):\n",
        "    return f\"{func(*args, **kwargs)} ->rozšířeno o tento text\"\n",
        "\n",
        "  return wrapper"
      ],
      "metadata": {
        "id": "YDYCoZ1aSlLY"
      },
      "execution_count": null,
      "outputs": []
    },
    {
      "cell_type": "code",
      "source": [
        "print(hello_world())"
      ],
      "metadata": {
        "id": "0EGoSwLbSvo8"
      },
      "execution_count": null,
      "outputs": []
    },
    {
      "cell_type": "code",
      "source": [
        "print(decorator(hello_world)())"
      ],
      "metadata": {
        "id": "Hhz0pMsFS9zb"
      },
      "execution_count": null,
      "outputs": []
    },
    {
      "cell_type": "markdown",
      "source": [
        "### Př. 29 \"Ahoj Světe\""
      ],
      "metadata": {
        "id": "_0TLNFu1TXjm"
      }
    },
    {
      "cell_type": "code",
      "source": [
        "def jednoduchy_decorator(func):\n",
        "    def wrapper():\n",
        "        print(\"Před voláním funkce\")\n",
        "        func()\n",
        "        print(\"Po volání funkce\")\n",
        "    return wrapper\n",
        "\n",
        "@jednoduchy_decorator\n",
        "def pozdrav():\n",
        "    print(\"Ahoj světe!\")\n",
        "\n",
        "pozdrav()"
      ],
      "metadata": {
        "id": "su-fJx6kPm-b"
      },
      "execution_count": null,
      "outputs": []
    },
    {
      "cell_type": "markdown",
      "source": [
        "###Př. 30 Doba trvání funkce"
      ],
      "metadata": {
        "id": "92naC5Uucf4_"
      }
    },
    {
      "cell_type": "code",
      "source": [
        "import time\n",
        "\n",
        "def doba_trvani(func):\n",
        "\n",
        "  def wrapper(*arg, **kwargs):\n",
        "      t0 = time.time()\n",
        "      result = func(*arg, **kwargs)\n",
        "      t1 = time.time()\n",
        "      print(\"Doba trvání funkce (sekundy): \" + str(t1 - t0))\n",
        "      return result\n",
        "\n",
        "  return wrapper\n",
        "\n",
        "@doba_trvani\n",
        "def soucet(a, b, n):\n",
        "  time.sleep(n)\n",
        "  return a + b\n",
        "\n",
        "soucet(500,600,5)"
      ],
      "metadata": {
        "id": "bluIXYZOcVB4"
      },
      "execution_count": null,
      "outputs": []
    },
    {
      "cell_type": "markdown",
      "source": [
        "###Př. 31 DÚ\n",
        "vstup: list čísel\n",
        "\n",
        "výstup: funkce součin, která vrátí výsledek,\n",
        "\n",
        "výstup2: dekorátor, který za součit přidá formuli \"vytvořeno na kurzu SDA\""
      ],
      "metadata": {
        "id": "qMEby0q7exP1"
      }
    },
    {
      "cell_type": "code",
      "source": [],
      "metadata": {
        "id": "J6_CXnLygy8T"
      },
      "execution_count": null,
      "outputs": []
    },
    {
      "cell_type": "markdown",
      "source": [
        "## Ošetřování chyb\n",
        "\n",
        "Chyby a výjimky jsou situace, kdy program narazí na problém, který zabrání dalšímu provádění kódu."
      ],
      "metadata": {
        "id": "_AlTESbkg03X"
      }
    },
    {
      "cell_type": "markdown",
      "source": [
        "### Typy chyb"
      ],
      "metadata": {
        "id": "rHlRB5_CiFWM"
      }
    },
    {
      "cell_type": "markdown",
      "source": [
        "**TypeError** - Když operace nebo funkce je použita na nevhodný typ."
      ],
      "metadata": {
        "id": "TFCG05IjhfBW"
      }
    },
    {
      "cell_type": "code",
      "source": [
        "print(5 + \"text\") #TypeError"
      ],
      "metadata": {
        "id": "ov1Az5_-g0Rs"
      },
      "execution_count": null,
      "outputs": []
    },
    {
      "cell_type": "markdown",
      "source": [
        "**AssertionError** - Když výraz je nepravdivý."
      ],
      "metadata": {
        "id": "rHeu75griLPU"
      }
    },
    {
      "cell_type": "code",
      "source": [
        "assert 2 + 2 == 5  # AssertionError"
      ],
      "metadata": {
        "id": "ekfc2RVLiQg2"
      },
      "execution_count": null,
      "outputs": []
    },
    {
      "cell_type": "markdown",
      "source": [
        "**KeyError** - Při pokusu o přístup ke klíči, který neexistuje ve slovníku."
      ],
      "metadata": {
        "id": "Jhg7_XNfi5RV"
      }
    },
    {
      "cell_type": "code",
      "source": [
        "slovnik = {\"klic\": \"hodnota\"}\n",
        "print(slovnik[\"neexistujici_klic\"])  # KeyError"
      ],
      "metadata": {
        "id": "x3RvB6MJjBw4"
      },
      "execution_count": null,
      "outputs": []
    },
    {
      "cell_type": "markdown",
      "source": [
        "**ModuleNotFoundError** - Když importovaný modul neexistuje."
      ],
      "metadata": {
        "id": "bshgcMCnjI0n"
      }
    },
    {
      "cell_type": "code",
      "source": [
        "import neexistujici_modul  # ModuleNotFoundError"
      ],
      "metadata": {
        "id": "qusr4fwOjR9-"
      },
      "execution_count": null,
      "outputs": []
    },
    {
      "cell_type": "markdown",
      "source": [
        "**IndexError** - Při pokusu o přístup k neexistujícímu indexu v seznamu."
      ],
      "metadata": {
        "id": "erAuzUMRjVvm"
      }
    },
    {
      "cell_type": "code",
      "source": [
        "seznam = [1, 2, 3]\n",
        "print(seznam[5])  # IndexError"
      ],
      "metadata": {
        "id": "B9BH-ywpjZ9J"
      },
      "execution_count": null,
      "outputs": []
    },
    {
      "cell_type": "markdown",
      "source": [
        "**NameError** - Když se pokusíte použít proměnnou, která není definovaná."
      ],
      "metadata": {
        "id": "pPWnWZPkjc8-"
      }
    },
    {
      "cell_type": "code",
      "source": [
        "print(neexistujici_promenna)  # NameError"
      ],
      "metadata": {
        "id": "8tAd8kl-ji9j"
      },
      "execution_count": null,
      "outputs": []
    },
    {
      "cell_type": "markdown",
      "source": [
        "**ZeroDivisionError** - Při pokusu o dělení nulou."
      ],
      "metadata": {
        "id": "ysd4VtP9jl0i"
      }
    },
    {
      "cell_type": "code",
      "source": [
        "print(10 / 0)  # ZeroDivisionError"
      ],
      "metadata": {
        "id": "Oj7wjIxzjlQ5"
      },
      "execution_count": null,
      "outputs": []
    },
    {
      "cell_type": "markdown",
      "source": [
        "**SyntaxError** - Když je v kódu syntaktická chyba."
      ],
      "metadata": {
        "id": "MBwzpgIwjzTz"
      }
    },
    {
      "cell_type": "code",
      "source": [
        "eval(\"if True print('chyba')\")  # SyntaxError"
      ],
      "metadata": {
        "id": "RuOTKA6Ojy38"
      },
      "execution_count": null,
      "outputs": []
    },
    {
      "cell_type": "markdown",
      "source": [
        "### Try-except\n",
        "\n",
        "Blok try-except umožňuje zachytit chyby a zpracovat je tak, aby program nepřestal fungovat."
      ],
      "metadata": {
        "id": "blaF9OOtkKz6"
      }
    },
    {
      "cell_type": "code",
      "source": [
        "try:\n",
        "    x = 10 / 0\n",
        "except ZeroDivisionError:\n",
        "    print(\"Chyba: Pokus o dělení nulou.\")"
      ],
      "metadata": {
        "id": "YJUYn0nkkP21"
      },
      "execution_count": null,
      "outputs": []
    },
    {
      "cell_type": "markdown",
      "source": [
        "### Else a finally\n",
        "\n",
        "Blok else se spouští, pokud v bloku try není žádná chyba. Blok finally se spouští vždy, bez ohledu na to, zda chyba nastala.\n",
        "\n"
      ],
      "metadata": {
        "id": "65M_w5kskzcs"
      }
    },
    {
      "cell_type": "code",
      "source": [
        "try:\n",
        "    x = 10 / 2\n",
        "except ZeroDivisionError:\n",
        "    print(\"Chyba: Pokus o dělení nulou.\")\n",
        "else:\n",
        "    print(\"Dělení proběhlo úspěšně.\")\n",
        "finally:\n",
        "    print(\"Tento text se zobrazí vždy.\")"
      ],
      "metadata": {
        "id": "1pxRbIg_ky6r"
      },
      "execution_count": null,
      "outputs": []
    },
    {
      "cell_type": "markdown",
      "source": [
        "Mohu specifikovat chyby a jejich hlášky"
      ],
      "metadata": {
        "id": "TCbemBxTnkMW"
      }
    },
    {
      "cell_type": "code",
      "source": [
        "try:\n",
        "  garik=[]\n",
        "  print(garik[2])\n",
        "except IndexError:\n",
        "  print('IndexError')\n",
        "except KeyError:\n",
        "  print('KeyError')\n",
        "except Exception as e:\n",
        "  print(f\"Chyba: {e}\")\n",
        "else:\n",
        "  print('Žádná výjimka')\n",
        "finally:\n",
        "  print('pokračujeme')"
      ],
      "metadata": {
        "id": "5mphcP3knPMc"
      },
      "execution_count": null,
      "outputs": []
    },
    {
      "cell_type": "markdown",
      "source": [
        "Více výjimek dohromady"
      ],
      "metadata": {
        "id": "Qf5K725GoVmg"
      }
    },
    {
      "cell_type": "code",
      "source": [
        "try:\n",
        "    print(10/\"3\")  # '3' is a user input\n",
        "except (ZeroDivisionError, TypeError):\n",
        "    print(\"Nedělte nulou!\")"
      ],
      "metadata": {
        "id": "9i1zOSo4oTZ2"
      },
      "execution_count": null,
      "outputs": []
    },
    {
      "cell_type": "markdown",
      "source": [
        "###Př. 32 DÚ\n",
        "Napište program, který požaduje od uživatele zadat číslo, a ošetřete chyby, pokud uživatel zadá text."
      ],
      "metadata": {
        "id": "Qn7GN1Fgum_z"
      }
    },
    {
      "cell_type": "code",
      "source": [],
      "metadata": {
        "id": "MBHz1BzPuvCu"
      },
      "execution_count": null,
      "outputs": []
    },
    {
      "cell_type": "markdown",
      "source": [
        "# Objektově orientované programování (OOP) v Pythonu\n",
        "\n",
        "Objektově orientované programování (OOP) je programovací paradigma, které organizuje kód kolem objektů. Objekt je instance třídy, která obsahuje data (atributy) a chování (metody).\n",
        "\n",
        "Hlavní principy OOP:\n",
        "- **Zapouzdření:** Sdružování dat a metod, které s nimi pracují, a ochrana před neoprávněným přístupem.\n",
        "- **Dědičnost:** Možnost odvodit nové třídy z existujících.\n",
        "- **Polymorfismus:** Schopnost různých objektů reagovat odlišně na stejnou metodu.\n",
        "- **Abstrakce:** Skrytí detailů implementace a zobrazení pouze podstatných vlastností."
      ],
      "metadata": {
        "id": "HvLqVdwHSK9i"
      }
    },
    {
      "cell_type": "markdown",
      "source": [
        "## Názvosloví\n",
        "Třída je šablona pro vytváření objektů. Obsahuje atributy a metody, které definují chování a vlastnosti objektu.\n"
      ],
      "metadata": {
        "id": "v5xCTEEjTSI4"
      }
    },
    {
      "cell_type": "markdown",
      "source": [
        "### Př. 33 základní třída"
      ],
      "metadata": {
        "id": "CGM_8Vs1TdC_"
      }
    },
    {
      "cell_type": "code",
      "source": [
        "class Auto:\n",
        "    def __init__(self, znacka, model, rok):\n",
        "        \"\"\"Konstruktor třídy Auto.\"\"\"\n",
        "        self.znacka = znacka  # Značka auta\n",
        "        self.model = model    # Model auta\n",
        "        self.rok = rok        # Rok výroby\n",
        "\n",
        "    def info(self):\n",
        "        \"\"\"Metoda, která vrací informace o autě.\"\"\"\n",
        "        return f\"{self.znacka} {self.model} ({self.rok})\""
      ],
      "metadata": {
        "id": "vNayuUn_SfKp"
      },
      "execution_count": null,
      "outputs": []
    },
    {
      "cell_type": "code",
      "source": [
        "# Vytvoření objektu\n",
        "moje_auto1 = Auto(\"Škoda\", \"Octavia\", 2020)\n",
        "moje_auto2 = Auto(\"BMW\", \"M3\", 1999)\n",
        "print(moje_auto.info())"
      ],
      "metadata": {
        "id": "5_48i-a-SpqU"
      },
      "execution_count": null,
      "outputs": []
    },
    {
      "cell_type": "code",
      "source": [
        "Škoda Octavia (2020)"
      ],
      "metadata": {
        "id": "z-QTjTxuSu0L"
      },
      "execution_count": null,
      "outputs": []
    }
  ]
}